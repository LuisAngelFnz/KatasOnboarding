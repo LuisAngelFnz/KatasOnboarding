{
  "cells": [
    {
      "cell_type": "markdown",
      "metadata": {},
      "source": [
        "# Ejercicio - Escribir declaraciones `if`, `else`, y `elif`\n",
        "\n",
        "Las instrucciones `If` te permiten ejecutar condicionalmente código Python. Se usan comúnmente en Python para \"tomar decisiones\" sobre lo que debería suceder a continuación mientras se ejecuta un programa.\n",
        "\n",
        "Para crear una instrucción `if` en Python, define una expresión de prueba que pueda tener un valor `True` o `False`, seguido de un bloque de código con sangría que se ejecutará si se cumple la condición.  \n",
        "\n",
        "```python\n",
        "if expresion_prueba:\n",
        "    # intrucción(es) a ejecutar\n",
        "```\n",
        "\n",
        "Para escribir un programa con una lógica condicional más compleja, puedes agregar instrucciones `else` y `elif` al bloque de código. También puedes anidar instrucciones condicionales. \n",
        "\n",
        "\n",
        "```python\n",
        "if expresion_prueba:\n",
        "    # intrucción(es) a ejecutar\n",
        "    if expresion_prueba:\n",
        "        # intrucción(es) a ejecutar\n",
        "    else: \n",
        "        # intrucción(es) a ejecutar\n",
        "elif expresion_prueba:\n",
        "    # intrucción(es) a ejecutar\n",
        "else:\n",
        "    # intrucción(es) a ejecutar\n",
        "```\n",
        "\n",
        "> **TIP**\n",
        "> Dedica unos minutos a tratar de encontrar una solución. Luego desplázate hacia abajo hasta la parte inferior para ver si has logrado compilar el programa de acuerdo con las especificaciones.\n",
        "\n",
        "Para este ejercicio, escribirás una lógica condicional que imprima una advertencia si un asteroide se acerca a la Tierra demasiado rápido. La velocidad del asteroide varía dependiendo de lo cerca que esté del sol, y cualquier velocidad superior a 25 kilómetros por segundo (km/s) merece una advertencia.\n",
        "\n",
        "Un asteroide se acerca, y viaja a una velocidad de 49 km/s."
      ]
    },
    {
      "cell_type": "code",
      "execution_count": 1,
      "metadata": {},
      "outputs": [
        {
          "name": "stdout",
          "output_type": "stream",
          "text": [
            "Peligro inminente viene un arteroide a la velocidad de 49km/s posible colisión con la Tierra\n"
          ]
        }
      ],
      "source": [
        "# Añadir el código necesario para crear una variable que guarde la velocidad del asteroide.\n",
        "velocidad_asteroide = 49\n",
        "# Escribe una expresión de prueba para calcular si necesita una advertencia.\n",
        "adverticia = velocidad_asteroide > 25\n",
        "# Agregue las instrucciones que se ejecutarán si la expresión de prueba es true o false.\n",
        "if adverticia:\n",
        "    print(f'Peligro inminente viene un arteroide a la velocidad de {velocidad_asteroide}km/s posible colisión con la Tierra')\n",
        "else:\n",
        "    print(f'Velicidad del asteroide: {velocidad_asteroide}km/s cero peligro')"
      ]
    },
    {
      "cell_type": "markdown",
      "metadata": {},
      "source": [
        "Si un asteroide entra en la atmósfera de la Tierra a una velocidad mayor o igual a 20 km/s, a veces produce un rayo de luz que se puede ver desde la Tierra. Escribe la lógica condicional que usa declaraciones `if`, `else`, y `elif` para alertar a las personas de todo el mundo que deben buscar un asteroide en el cielo. ¡Hay uno que se dirige a la tierra ahora a una velocidad de 19 km/s!"
      ]
    },
    {
      "cell_type": "code",
      "execution_count": null,
      "metadata": {},
      "outputs": [],
      "source": [
        "# import random\n",
        "# velocidad_asteroide = random.choice([19,20,21])\n",
        "\n",
        "# Agrega el código para crear una variable para un asteroide que viaja a 19 km/s\n",
        "velocidad_asteroide = 19\n",
        "# Escribe varias expresiones de prueba para determinar si puedes ver el rayo de luz desde la tierra\n",
        "rayo_visible = velocidad_asteroide >= 20\n",
        "# Agrega las instrucciones que se ejecutarán si las expresiones de prueba son True o False\n",
        "if rayo_visible:\n",
        "    print('Esta pasando un arteroide cerca de la tierra, puede salir a ver el rayo de luz')\n",
        "else:\n",
        "    print('Esta pasando un arteroide cerca de la tierra, pero no es posible ver ningún rayo de luz')"
      ]
    },
    {
      "cell_type": "markdown",
      "metadata": {},
      "source": [
        "# Ejercicio: Uso de operadores `and` y `or` \n",
        "\n",
        "En el ejercicio anterior, trabajó con sentencias `if`, `else`, y `elif` para escribir programas con lógica condicional compleja. Para crear expresiones booleanas aún más interesantes, puede usar los operadores `and` y `or` en Python.\n",
        "\n",
        "Las expresiones `and` son sólo si ambas subexpresiones son verdaderas.\n",
        "\n",
        "`expresión1 and expresión2`\n",
        "\n",
        "Las expresiones `or` son `True` si *al menos una* subexpresión es verdadera.\n",
        "\n",
        "`expresión1 or expresión2`\n",
        "\n",
        "En este ejercicio, aprenderás información más matizada sobre cuándo los asteroides representan un peligro para la Tierra, y utilizarás esa información para mejorar nuestro sistema de advertencia. Aquí está la nueva información que necesitas saber:\n",
        "\n",
        "*Los asteroides de menos de 25 metros en su dimensión más grande probablemente se quemarán a medida que entren en la atmósfera de la Tierra.\n",
        "* Si una pieza de un asteroide que es más grande que 25 metros pero más pequeña que 1000 metros golpeara la Tierra, causaría mucho daño.\n",
        "\n",
        "También discutimos en el ejercicio anterior que:\n",
        "\n",
        "* La velocidad del asteroide varía en función de lo cerca que esté del sol, y cualquier velocidad superior a 25 kilómetros por segundo (km/s) merece una advertencia.\n",
        "* Si un asteroide entra en la atmósfera de la Tierra a una velocidad mayor o igual a 20 km/s, a veces produce un rayo de luz que se puede ver desde la Tierra.\n",
        "\n",
        "Usando toda esta información, escribe un programa que emita la advertencia o información correcta a la gente de la Tierra, según la velocidad y el tamaño de un asteroide. Utiliza instrucciones `if`, `else`, y `elif`, así como los operadores `and` y `or`."
      ]
    },
    {
      "cell_type": "code",
      "execution_count": 8,
      "metadata": {},
      "outputs": [
        {
          "name": "stdout",
          "output_type": "stream",
          "text": [
            "#################### Monitorie de asteroides número: 1 ####################\n",
            "!!!!Peligro inminente viene un arteroide a la velocidad de 27km/s y es superior a: 25posible colisión con la Tierra\n",
            "Se puede apreciar rayo de luz, la velocidad es 27 y es superior a: 20\n",
            "Si colisiona los daños seran catastroficos, la dimensión es: 511m y esta dentro del rago 25m y 1000m\n",
            "#################### Monitorie de asteroides número: 2 ####################\n",
            "Esta pasando un asteroide a la velodidad de 15km/s, cero peligro\n",
            "No se podra apreciar el rayo de luz por que la velocidad es inferior ó igual a: 20\n",
            "#################### Monitorie de asteroides número: 3 ####################\n",
            "Esta pasando un asteroide a la velodidad de 15km/s, cero peligro\n",
            "No se podra apreciar el rayo de luz por que la velocidad es inferior ó igual a: 20\n",
            "#################### Monitorie de asteroides número: 4 ####################\n",
            "Esta pasando un asteroide a la velodidad de 23km/s, cero peligro\n",
            "Puede salir a ver el rayo de luz, la velocidad es superior a: 20\n",
            "#################### Monitorie de asteroides número: 5 ####################\n",
            "Esta pasando un asteroide a la velodidad de 21km/s, cero peligro\n",
            "Puede salir a ver el rayo de luz, la velocidad es superior a: 20\n",
            "#################### Monitorie de asteroides número: 6 ####################\n",
            "Esta pasando un asteroide a la velodidad de 22km/s, cero peligro\n",
            "Puede salir a ver el rayo de luz, la velocidad es superior a: 20\n",
            "#################### Monitorie de asteroides número: 7 ####################\n",
            "Esta pasando un asteroide a la velodidad de 24km/s, cero peligro\n",
            "Puede salir a ver el rayo de luz, la velocidad es superior a: 20\n",
            "#################### Monitorie de asteroides número: 8 ####################\n",
            "Esta pasando un asteroide a la velodidad de 16km/s, cero peligro\n",
            "No se podra apreciar el rayo de luz por que la velocidad es inferior ó igual a: 20\n",
            "#################### Monitorie de asteroides número: 9 ####################\n",
            "Esta pasando un asteroide a la velodidad de 21km/s, cero peligro\n",
            "Puede salir a ver el rayo de luz, la velocidad es superior a: 20\n",
            "#################### Monitorie de asteroides número: 10 ####################\n",
            "!!!!Peligro inminente viene un arteroide a la velocidad de 26km/s y es superior a: 25posible colisión con la Tierra\n",
            "Se puede apreciar rayo de luz, la velocidad es 26 y es superior a: 20\n",
            "Rogarle a diosito por que es el fin de la tierra, dimension: 1090 igual o superior a 1000\n",
            "#################### Monitorie de asteroides número: 11 ####################\n",
            "Esta pasando un asteroide a la velodidad de 19km/s, cero peligro\n",
            "No se podra apreciar el rayo de luz por que la velocidad es inferior ó igual a: 20\n",
            "#################### Monitorie de asteroides número: 12 ####################\n",
            "Esta pasando un asteroide a la velodidad de 16km/s, cero peligro\n",
            "No se podra apreciar el rayo de luz por que la velocidad es inferior ó igual a: 20\n",
            "#################### Monitorie de asteroides número: 13 ####################\n",
            "Esta pasando un asteroide a la velodidad de 18km/s, cero peligro\n",
            "No se podra apreciar el rayo de luz por que la velocidad es inferior ó igual a: 20\n",
            "#################### Monitorie de asteroides número: 14 ####################\n",
            "!!!!Peligro inminente viene un arteroide a la velocidad de 26km/s y es superior a: 25posible colisión con la Tierra\n",
            "Se puede apreciar rayo de luz, la velocidad es 26 y es superior a: 20\n",
            "Si colisiona los daños seran catastroficos, la dimensión es: 620m y esta dentro del rago 25m y 1000m\n",
            "#################### Monitorie de asteroides número: 15 ####################\n",
            "Esta pasando un asteroide a la velodidad de 16km/s, cero peligro\n",
            "No se podra apreciar el rayo de luz por que la velocidad es inferior ó igual a: 20\n",
            "#################### Monitorie de asteroides número: 16 ####################\n",
            "Esta pasando un asteroide a la velodidad de 22km/s, cero peligro\n",
            "Puede salir a ver el rayo de luz, la velocidad es superior a: 20\n",
            "#################### Monitorie de asteroides número: 17 ####################\n",
            "Esta pasando un asteroide a la velodidad de 15km/s, cero peligro\n",
            "No se podra apreciar el rayo de luz por que la velocidad es inferior ó igual a: 20\n",
            "#################### Monitorie de asteroides número: 18 ####################\n",
            "Esta pasando un asteroide a la velodidad de 17km/s, cero peligro\n",
            "No se podra apreciar el rayo de luz por que la velocidad es inferior ó igual a: 20\n",
            "#################### Monitorie de asteroides número: 19 ####################\n",
            "Esta pasando un asteroide a la velodidad de 16km/s, cero peligro\n",
            "No se podra apreciar el rayo de luz por que la velocidad es inferior ó igual a: 20\n"
          ]
        }
      ],
      "source": [
        "import random\n",
        "import time\n",
        "\n",
        "velocidad_advertencia = 25\n",
        "velocidad_rayo = 20\n",
        "\n",
        "def posibilidades(velocidad, dimension):\n",
        "\n",
        "    if not velocidad > velocidad_advertencia:\n",
        "        print(f'Esta pasando un asteroide a la velodidad de {velocidad}km/s, cero peligro')\n",
        "        if velocidad > velocidad_rayo:\n",
        "            print(f'Puede salir a ver el rayo de luz, la velocidad es superior a: {velocidad_rayo}')\n",
        "        else:\n",
        "            print(f'No se podra apreciar el rayo de luz por que la velocidad es inferior ó igual a: {velocidad_rayo}')\n",
        "            \n",
        "    else:\n",
        "        print(f'!!!!Peligro inminente viene un arteroide a la velocidad de {velocidad}km/s y es superior a: {velocidad_advertencia}posible colisión con la Tierra')\n",
        "        ## Siempre caera por que la velocidad para la advertencia es 25 y para la luz es igual o mayor a 20\n",
        "        print(f'Se puede apreciar rayo de luz, la velocidad es {velocidad} y es superior a: {velocidad_rayo}')\n",
        "\n",
        "        if dimension < 25:\n",
        "            print(f'Si colisiona los daños no seran relevantes, por que la dimension es: {dimension}m y es inferior a 25')\n",
        "        elif dimension >= 25 and dimension < 1000:\n",
        "            print(f'Si colisiona los daños seran catastroficos, la dimensión es: {dimension}m y esta dentro del rago 25m y 1000m')\n",
        "        else:\n",
        "            print(f'Rogarle a diosito por que es el fin de la tierra, dimension: {dimension} igual o superior a 1000')\n",
        "\n",
        "# Agrega el código para crear nuevas variables para la velocidad y el tamaño del asteroide\n",
        "for attemp in range(1,21):\n",
        "\n",
        "    asteroide_velocidad = random.choice(range(15,30))\n",
        "    asteroide_dimension = random.choice(range(20, 2000))\n",
        "\n",
        "    print(f'{\"#\"*20} Monitorie de asteroides número: {attemp} {\"#\"*20}')\n",
        "\n",
        "    posibilidades(asteroide_velocidad, asteroide_dimension)\n",
        "\n",
        "    time.sleep(1)\n",
        "    \n",
        "\n",
        "# Para probar el código, prueba con varias velocidades y tamaños\n",
        "\n",
        "# Escribe varias expresiones de prueba o combinaciones de expresiones de prueba para determinar qué mensaje se debe enviar a Tierra.\n"
      ]
    },
    {
      "cell_type": "markdown",
      "metadata": {},
      "source": [
        "## Soluciones"
      ]
    },
    {
      "cell_type": "markdown",
      "metadata": {},
      "source": [
        "#### Problema No. 1"
      ]
    },
    {
      "cell_type": "code",
      "execution_count": null,
      "metadata": {},
      "outputs": [],
      "source": [
        "# Añadir el código necesario para crear una variable que guarde la velocidad del asteroide.\n",
        "# Escribe una expresión de prueba para calcular si necesita una advertencia.\n",
        "# Agregue las instrucciones que se ejecutarán si la expresión de prueba es true o false.\n",
        "\n",
        "asteroide = 49\n",
        "if asteroide > 25:\n",
        "    print('¡Alerta! ¡Un asteroide se acerca a velocidades peligrosas!')\n",
        "else:\n",
        "    print('¡Sigue con tu día!')"
      ]
    },
    {
      "cell_type": "markdown",
      "metadata": {},
      "source": [
        "#### Problema No. 2"
      ]
    },
    {
      "cell_type": "code",
      "execution_count": null,
      "metadata": {},
      "outputs": [],
      "source": [
        "# Agrega el código para crear una variable para un asteroide que viaja a 19 km/s\n",
        "# Escribe varias expresiones de prueba para determinar si puedes ver el rayo de luz desde la tierra\n",
        "# Agrega las instrucciones que se ejecutarán si las expresiones de prueba son True o False\n",
        "\n",
        "asteroide = 19\n",
        "if asteroide > 20:\n",
        "    print('Look up! ¡Hay una luz mágica en el cielo!')\n",
        "elif asteroide == 20:\n",
        "    print('Look up! ¡Hay una luz mágica en el cielo!')\n",
        "else:\n",
        "    print('¡Nada que ver aquí!')"
      ]
    },
    {
      "cell_type": "markdown",
      "metadata": {},
      "source": [
        "#### Problema No. 3"
      ]
    },
    {
      "cell_type": "code",
      "execution_count": null,
      "metadata": {},
      "outputs": [],
      "source": [
        "# Agrega el código para crear nuevas variables para la velocidad y el tamaño del asteroide\n",
        "# Para probar el código, prueba con varias velocidades y tamaños\n",
        "# Escribe varias expresiones de prueba o combinaciones de expresiones de prueba para determinar qué mensaje se debe enviar a Tierra.\n",
        "\n",
        "velocidad_asteroide = 25\n",
        "tamano_asteroide = 40\n",
        "if velocidad_asteroide > 25 and tamano_asteroide > 25:\n",
        "    print('¡Alerta, Un asteroide muy peligroso viene hacia la Tierra!')\n",
        "elif velocidad_asteroide >= 20:\n",
        "    print('Look up! ¡Hay una luz mágica en el cielo!')\n",
        "elif tamano_asteroide < 25:\n",
        "    print('Nada que ver aquí :)')\n",
        "else:\n",
        "    print('Nada que ver aquí :)')"
      ]
    },
    {
      "cell_type": "markdown",
      "metadata": {},
      "source": [
        "Curso Propedútico de Python para Launch X - Innovacción Virtual.\n",
        "\n",
        "Material desarrollado con base en los contenidos de MSLearn y la metáfora de LaunchX, traducción e implementación por: Fernanda Ochoa - Learning Producer de LaunchX.\n",
        "\n",
        "Redes:\n",
        "* GitHub: [FernandaOchoa](https://github.com/FernandaOchoa)\n",
        "* Twitter: [@imonsh](https://twitter.com/imonsh)\n",
        "* Instagram: [fherz8a](https://www.instagram.com/fherz8a/)"
      ]
    }
  ],
  "metadata": {
    "interpreter": {
      "hash": "916dbcbb3f70747c44a77c7bcd40155683ae19c65e1c03b4aa3499c5328201f1"
    },
    "kernel_info": {
      "name": "conda-env-py37_default-py"
    },
    "kernelspec": {
      "display_name": "py37_default",
      "language": "python",
      "name": "python3"
    },
    "language_info": {
      "codemirror_mode": {
        "name": "ipython",
        "version": 3
      },
      "file_extension": ".py",
      "mimetype": "text/x-python",
      "name": "python",
      "nbconvert_exporter": "python",
      "pygments_lexer": "ipython3",
      "version": "3.9.9"
    },
    "nteract": {
      "version": "nteract-front-end@1.0.0"
    },
    "orig_nbformat": 4
  },
  "nbformat": 4,
  "nbformat_minor": 2
}
